{
 "cells": [
  {
   "cell_type": "markdown",
   "metadata": {},
   "source": [
    "# Cleaning The Project Data Files"
   ]
  },
  {
   "cell_type": "markdown",
   "metadata": {},
   "source": [
    "### Cleaning The phone_use_data.csv File"
   ]
  },
  {
   "cell_type": "code",
   "execution_count": 3,
   "metadata": {},
   "outputs": [],
   "source": [
    "import pandas as pd\n",
    "\n",
    "# Read the phone use data CSV file\n",
    "df = pd.read_csv('phone_use_data.csv')\n",
    "\n",
    "df.drop([195, 196 ,197], inplace=True)\n",
    "\n",
    "\n",
    "# Function to check if a time duration is valid (hours < 24, minutes < 60, seconds < 60)\n",
    "def is_valid_time(time_str):\n",
    "    if not pd.isnull(time_str):\n",
    "        hours, minutes, seconds = map(int, time_str.split(':'))\n",
    "        return hours < 24 and minutes < 60 and seconds < 60\n",
    "    return True  # Treat NaN as valid\n",
    "\n",
    "# Function to check if the check phone count is within a reasonable range\n",
    "def is_valid_check_count(check_count):\n",
    "    if not pd.isnull(check_count):\n",
    "        return 25 <= int(check_count) <= 105\n",
    "    return True  # Treat NaN as valid\n",
    "\n",
    "# Identify rows with incorrect time values\n",
    "invalid_time_rows = df[~df['Screen on time'].apply(is_valid_time)]\n",
    "\n",
    "# Drop rows with incorrect time values\n",
    "df.drop(invalid_time_rows.index, inplace=True)\n",
    "\n",
    "# Save the cleaned DataFrame to a new CSV file\n",
    "df.to_csv('phone_use_data_cleaned.csv', index=False)\n"
   ]
  },
  {
   "cell_type": "markdown",
   "metadata": {},
   "source": [
    "### Cleaning The app_usage.csv File"
   ]
  },
  {
   "cell_type": "code",
   "execution_count": 4,
   "metadata": {},
   "outputs": [],
   "source": [
    "import pandas as pd\n",
    "\n",
    "# Read the CSV file\n",
    "df = pd.read_csv('app_usage.csv')\n",
    "\n",
    "# Replace certain app names with standardized names\n",
    "df['App name'] = df['App name'].replace('வரைபடம்', 'Map Application')\n",
    "df['App name'] = df['App name'].replace('WhatsApp\\xa0Business', 'WhatsApp Business')\n",
    "\n",
    "# Filter out rows where 'Access count' is less than or equal to 3\n",
    "df = df[df['Access count'] > 3]\n",
    "\n",
    "# Function to convert time duration string to total seconds\n",
    "def time_to_seconds(time_str):\n",
    "    hours, minutes, seconds = map(float, time_str.split(':'))\n",
    "    return hours * 3600 + minutes * 60 + seconds\n",
    "\n",
    "# Calculate average screen time in seconds\n",
    "df['Average screen time (seconds)'] = df['Usage time'].apply(time_to_seconds) / df['Access count']\n",
    "\n",
    "# Define a threshold for low average screen time, for example, 30 seconds\n",
    "threshold = 30\n",
    "\n",
    "# Filter out apps with low average screen time\n",
    "df = df[df['Average screen time (seconds)'] > threshold]\n",
    "\n",
    "# Convert average screen time back to string format (HH:MM:SS)\n",
    "df['Average screen time'] = df['Average screen time (seconds)'].apply(lambda s: f\"{int(s//3600)}:{int((s%3600)//60)}:{int(s%60):02d}\")\n",
    "\n",
    "# Drop the 'Average screen time (seconds)' column as it's no longer needed\n",
    "df = df.drop(columns=['Average screen time (seconds)'])\n",
    "\n",
    "# Write the cleaned DataFrame to a new CSV file\n",
    "df.to_csv('app_usage_cleaned.csv', index=False)\n"
   ]
  }
 ],
 "metadata": {
  "kernelspec": {
   "display_name": "Python 3",
   "language": "python",
   "name": "python3"
  },
  "language_info": {
   "codemirror_mode": {
    "name": "ipython",
    "version": 3
   },
   "file_extension": ".py",
   "mimetype": "text/x-python",
   "name": "python",
   "nbconvert_exporter": "python",
   "pygments_lexer": "ipython3",
   "version": "3.12.3"
  }
 },
 "nbformat": 4,
 "nbformat_minor": 2
}
