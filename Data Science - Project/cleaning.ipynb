{
 "cells": [
  {
   "cell_type": "markdown",
   "metadata": {},
   "source": [
    "Cleaning the Detailed_Phone_usage data\n"
   ]
  },
  {
   "cell_type": "code",
   "execution_count": 10,
   "metadata": {},
   "outputs": [],
   "source": [
    "import numpy as np\n",
    "import pandas as pd\n",
    "df = pd.read_csv('detailed_phone_usage.csv')\n"
   ]
  },
  {
   "cell_type": "code",
   "execution_count": 11,
   "metadata": {},
   "outputs": [
    {
     "name": "stdout",
     "output_type": "stream",
     "text": [
      "<class 'pandas.core.frame.DataFrame'>\n",
      "RangeIndex: 90719 entries, 0 to 90718\n",
      "Data columns (total 4 columns):\n",
      " #   Column    Non-Null Count  Dtype \n",
      "---  ------    --------------  ----- \n",
      " 0   App name  90718 non-null  object\n",
      " 1   Date      90716 non-null  object\n",
      " 2   Time      90716 non-null  object\n",
      " 3   Duration  90716 non-null  object\n",
      "dtypes: object(4)\n",
      "memory usage: 2.8+ MB\n"
     ]
    },
    {
     "data": {
      "text/plain": [
       "App name    1\n",
       "Date        3\n",
       "Time        3\n",
       "Duration    3\n",
       "dtype: int64"
      ]
     },
     "execution_count": 11,
     "metadata": {},
     "output_type": "execute_result"
    }
   ],
   "source": [
    "df.info()\n",
    "\n",
    "df.isnull().sum()"
   ]
  },
  {
   "cell_type": "code",
   "execution_count": 12,
   "metadata": {},
   "outputs": [],
   "source": [
    "df['Duration'] = pd.to_timedelta(df['Duration'])\n",
    "df = df[df['Duration'] >= pd.Timedelta(minutes=1)]\n",
    "df['Duration'] = (df['Duration'] / pd.Timedelta(minutes=1)).round()\n"
   ]
  },
  {
   "cell_type": "code",
   "execution_count": 13,
   "metadata": {},
   "outputs": [
    {
     "name": "stdout",
     "output_type": "stream",
     "text": [
      "['App Usage' 'Screen off (locked)' 'Gmail' 'WhatsApp' 'Screen off'\n",
      " 'Call of Duty' 'Instagram' 'Google Play Store' 'Screen on (unlocked)'\n",
      " 'Om Tamil Calendar' 'YouTube' 'Duolingo' 'Opera' 'Digital wellbeing'\n",
      " 'Camera' 'Phone' 'Sudoku' 'Telegram' 'Goodreads' 'Hotstar'\n",
      " 'Amazon Shopping' 'MX Player' 'Chrome' 'Samsung Music' 'Amazon Kindle'\n",
      " 'Messages' 'Gallery' 'Clock' 'Google Pay' 'Khan Academy' 'Flipkart'\n",
      " 'Galaxy Store' 'WPS Office' 'Audible' 'வரைபடம்' 'redBus' 'LG TV Plus'\n",
      " 'Samsung Notes' 'Drive' 'Calculator' 'Spotify' 'IndPay' 'Device shutdown'\n",
      " 'Settings' 'Airtel' 'Udemy' 'Zedge Ringtones & Wallpapers' 'Calendar'\n",
      " 'Game Launcher' 'IOBMobile' 'Screen on (locked)' 'Uber Eats' 'Swiggy'\n",
      " 'Google' 'Galaxy Themes' 'Medium' 'Deepstash' 'SoloLearn' 'Yahoo Mail'\n",
      " 'Opera Mini' 'My Files' 'Google Play services' 'Airtel Xstream'\n",
      " 'PUBG MOBILE LITE' 'SIM card manager' 'Canva' 'UFO VPN Basic'\n",
      " 'Samsung Max' 'Snapseed' 'JioTV' 'Evernote' 'Mi Fit' 'TV Cast (LG)'\n",
      " 'Crossword' 'Contacts' 'Google Spotlight Stories' 'JioSaavn'\n",
      " 'Device maintenance' 'Sun NXT' 'Smart View' 'Meme Templates' 'BlaBlaCar'\n",
      " 'Video Player' 'Flud' 'TED' 'Pixaloop' 'Service mode' 'WordPress'\n",
      " 'Layout' 'Meme Generator Free' 'Device boot' 'Prime Video'\n",
      " 'Package installer' 'English Templates' 'BOMBitUP' 'SimpleMind Free'\n",
      " 'B612' 'BookMyShow' 'SHAREit' 'Xender' 'Accessibility' 'Samsung Keyboard'\n",
      " 'Software update' 'Pushbullet' 'Adapt sound' 'Galaxy Diagnostics'\n",
      " 'System UI' 'Samsung Cloud' 'Samsung Experience Service']\n"
     ]
    }
   ],
   "source": [
    "unique_elements = df['App name'].unique()\n",
    "print(unique_elements)\n"
   ]
  },
  {
   "cell_type": "code",
   "execution_count": 14,
   "metadata": {},
   "outputs": [
    {
     "name": "stdout",
     "output_type": "stream",
     "text": [
      "                         App name        Date      Time  Duration\n",
      "0                       App Usage  26/11/2019  20:06:27       1.0\n",
      "5             Screen off (locked)  26/11/2019  20:01:11       4.0\n",
      "8                           Gmail  26/11/2019  19:59:26       1.0\n",
      "12            Screen off (locked)  26/11/2019  19:32:25      26.0\n",
      "13                       WhatsApp  26/11/2019  19:31:21       1.0\n",
      "...                           ...         ...       ...       ...\n",
      "90653  Samsung Experience Service  17/05/2019  19:08:52       1.0\n",
      "90669         Screen off (locked)  17/05/2019  18:46:24      18.0\n",
      "90697         Screen off (locked)  17/05/2019  18:31:32      11.0\n",
      "90708         Screen off (locked)  17/05/2019  18:28:35       2.0\n",
      "90713         Screen off (locked)  17/05/2019  18:25:10       3.0\n",
      "\n",
      "[26032 rows x 4 columns]\n"
     ]
    }
   ],
   "source": [
    "\n",
    "column_name = 'App name'\n",
    "value_to_delete = 'வரைபடம்'\n",
    "df = df[df[column_name] != value_to_delete]\n",
    "print(df)\n"
   ]
  },
  {
   "cell_type": "code",
   "execution_count": 15,
   "metadata": {},
   "outputs": [
    {
     "name": "stdout",
     "output_type": "stream",
     "text": [
      "           App name        Date  Duration\n",
      "0     Accessibility  2019-06-01       1.0\n",
      "1       Adapt sound  2019-05-29       2.0\n",
      "2            Airtel  2019-05-22       2.0\n",
      "3            Airtel  2019-05-24       4.0\n",
      "4            Airtel  2019-05-26       3.0\n",
      "...             ...         ...       ...\n",
      "2823         redBus  2019-10-23       2.0\n",
      "2824         redBus  2019-10-25       1.0\n",
      "2825         redBus  2019-10-28       3.0\n",
      "2826         redBus  2019-11-04       2.0\n",
      "2827         redBus  2019-11-15       5.0\n",
      "\n",
      "[2828 rows x 3 columns]\n"
     ]
    },
    {
     "name": "stderr",
     "output_type": "stream",
     "text": [
      "/tmp/ipykernel_16663/884587648.py:1: UserWarning: Parsing dates in %d/%m/%Y format when dayfirst=False (the default) was specified. Pass `dayfirst=True` or specify a format to silence this warning.\n",
      "  df['Date'] = pd.to_datetime(df['Date'])\n"
     ]
    }
   ],
   "source": [
    "df['Date'] = pd.to_datetime(df['Date'])\n",
    "df= df.groupby(['App name', df['Date'].dt.date])['Duration'].sum().reset_index()\n",
    "\n",
    "\n",
    "df = df[df[column_name] != value_to_delete]\n",
    "print(df)\n",
    "\n",
    "\n"
   ]
  },
  {
   "cell_type": "code",
   "execution_count": 16,
   "metadata": {},
   "outputs": [
    {
     "name": "stdout",
     "output_type": "stream",
     "text": [
      "           App name        Date  Duration\n",
      "0     Accessibility  2019-06-01       1.0\n",
      "1       Adapt sound  2019-05-29       2.0\n",
      "2            Airtel  2019-05-22       2.0\n",
      "3            Airtel  2019-05-24       4.0\n",
      "4            Airtel  2019-05-26       3.0\n",
      "...             ...         ...       ...\n",
      "2823         redBus  2019-10-23       2.0\n",
      "2824         redBus  2019-10-25       1.0\n",
      "2825         redBus  2019-10-28       3.0\n",
      "2826         redBus  2019-11-04       2.0\n",
      "2827         redBus  2019-11-15       5.0\n",
      "\n",
      "[2812 rows x 3 columns]\n"
     ]
    }
   ],
   "source": [
    "column_name = 'App name'\n",
    "value_to_delete = 'App Usage'\n",
    "df = df[df[column_name] != value_to_delete]\n",
    "print(df)\n"
   ]
  },
  {
   "cell_type": "code",
   "execution_count": 17,
   "metadata": {},
   "outputs": [
    {
     "name": "stdout",
     "output_type": "stream",
     "text": [
      "           App name       Date  Duration\n",
      "0     Accessibility 2019-06-01       1.0\n",
      "1       Adapt sound 2019-05-29       2.0\n",
      "2            Airtel 2019-05-22       2.0\n",
      "3            Airtel 2019-05-24       4.0\n",
      "4            Airtel 2019-05-26       3.0\n",
      "...             ...        ...       ...\n",
      "2823         redBus 2019-10-23       2.0\n",
      "2824         redBus 2019-10-25       1.0\n",
      "2825         redBus 2019-10-28       3.0\n",
      "2826         redBus 2019-11-04       2.0\n",
      "2827         redBus 2019-11-15       5.0\n",
      "\n",
      "[2812 rows x 3 columns]\n"
     ]
    }
   ],
   "source": [
    "\n",
    "# Convert 'Date' column to datetime if it's not already\n",
    "df['Date'] = pd.to_datetime(df['Date'], dayfirst=True)\n",
    "filtered_df = df.loc[df.groupby(['App name', 'Date'])['Duration'].idxmax()]\n",
    "\n",
    "print(filtered_df)\n"
   ]
  },
  {
   "cell_type": "code",
   "execution_count": 18,
   "metadata": {},
   "outputs": [],
   "source": [
    "df.to_csv('detailed_phone_usage_cleaned.csv', index=False)\n"
   ]
  }
 ],
 "metadata": {
  "kernelspec": {
   "display_name": "Python 3",
   "language": "python",
   "name": "python3"
  },
  "language_info": {
   "codemirror_mode": {
    "name": "ipython",
    "version": 3
   },
   "file_extension": ".py",
   "mimetype": "text/x-python",
   "name": "python",
   "nbconvert_exporter": "python",
   "pygments_lexer": "ipython3",
   "version": "3.12.3"
  }
 },
 "nbformat": 4,
 "nbformat_minor": 2
}
